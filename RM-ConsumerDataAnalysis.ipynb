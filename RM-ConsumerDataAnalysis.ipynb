{
 "cells": [
  {
   "cell_type": "code",
   "execution_count": 50,
   "metadata": {},
   "outputs": [],
   "source": [
    "import warnings\n",
    "warnings.filterwarnings('ignore')\n",
    "import pandas as pd\n",
    "import math\n",
    "#from sklearn.cross_validation import KFold\n",
    "from sklearn.model_selection import KFold\n",
    "from sklearn.model_selection import train_test_split\n",
    "import numpy as np\n",
    "from sklearn.feature_extraction.text import TfidfVectorizer\n",
    "from nltk.corpus import stopwords\n",
    "from nltk.tokenize import word_tokenize\n",
    "from nltk.stem.wordnet import WordNetLemmatizer\n",
    "lemma=WordNetLemmatizer()\n",
    "stop=set(stopwords.words('english'))\n",
    "import seaborn as sns\n",
    "import pandas as pd"
   ]
  },
  {
   "cell_type": "code",
   "execution_count": 51,
   "metadata": {},
   "outputs": [],
   "source": [
    "cd_train=pd.read_csv('Consumer_Complaints_train.csv')\n",
    "cd_test=pd.read_csv('Consumer_Complaints_test_share.csv')"
   ]
  },
  {
   "cell_type": "code",
   "execution_count": 52,
   "metadata": {},
   "outputs": [
    {
     "output_type": "execute_result",
     "data": {
      "text/plain": "  Date received                  Product                  Sub-product  \\\n0    2014-05-15              Credit card                          NaN   \n1    2014-09-18  Bank account or service  (CD) Certificate of deposit   \n2    2014-03-13         Credit reporting                          NaN   \n3    2015-07-17              Credit card                          NaN   \n4    2014-11-20              Credit card                          NaN   \n\n                                      Issue       Sub-issue  \\\n0                         Billing statement             NaN   \n1  Making/receiving payments, sending money             NaN   \n2    Incorrect information on credit report  Account status   \n3                         Billing statement             NaN   \n4                         Transaction issue             NaN   \n\n                        Consumer complaint narrative  \\\n0                                                NaN   \n1                                                NaN   \n2                                                NaN   \n3  My credit card statement from US Bank, XXXX. X...   \n4                                                NaN   \n\n                            Company public response                Company  \\\n0                                               NaN  Wells Fargo & Company   \n1                                               NaN      Santander Bank US   \n2                                               NaN                Equifax   \n3  Company chooses not to provide a public response           U.S. Bancorp   \n4                                               NaN        Bank of America   \n\n  State ZIP code            Tags Consumer consent provided? Submitted via  \\\n0    MI    48342  Older American                        NaN           Web   \n1    PA    18042             NaN                        NaN      Referral   \n2    CA    92427             NaN                        NaN      Referral   \n3    GA    305XX  Older American           Consent provided           Web   \n4    MA    02127             NaN                        NaN           Web   \n\n  Date sent to company     Company response to consumer Timely response?  \\\n0           2014-05-16          Closed with explanation              Yes   \n1           2014-09-24                           Closed              Yes   \n2           2014-04-03  Closed with non-monetary relief              Yes   \n3           2015-07-17      Closed with monetary relief              Yes   \n4           2014-11-28          Closed with explanation              Yes   \n\n  Consumer disputed?  Complaint ID  \n0                 No        856103  \n1                 No       1034666  \n2                 No        756363  \n3                 No       1474177  \n4                 No       1132572  ",
      "text/html": "<div>\n<style scoped>\n    .dataframe tbody tr th:only-of-type {\n        vertical-align: middle;\n    }\n\n    .dataframe tbody tr th {\n        vertical-align: top;\n    }\n\n    .dataframe thead th {\n        text-align: right;\n    }\n</style>\n<table border=\"1\" class=\"dataframe\">\n  <thead>\n    <tr style=\"text-align: right;\">\n      <th></th>\n      <th>Date received</th>\n      <th>Product</th>\n      <th>Sub-product</th>\n      <th>Issue</th>\n      <th>Sub-issue</th>\n      <th>Consumer complaint narrative</th>\n      <th>Company public response</th>\n      <th>Company</th>\n      <th>State</th>\n      <th>ZIP code</th>\n      <th>Tags</th>\n      <th>Consumer consent provided?</th>\n      <th>Submitted via</th>\n      <th>Date sent to company</th>\n      <th>Company response to consumer</th>\n      <th>Timely response?</th>\n      <th>Consumer disputed?</th>\n      <th>Complaint ID</th>\n    </tr>\n  </thead>\n  <tbody>\n    <tr>\n      <th>0</th>\n      <td>2014-05-15</td>\n      <td>Credit card</td>\n      <td>NaN</td>\n      <td>Billing statement</td>\n      <td>NaN</td>\n      <td>NaN</td>\n      <td>NaN</td>\n      <td>Wells Fargo &amp; Company</td>\n      <td>MI</td>\n      <td>48342</td>\n      <td>Older American</td>\n      <td>NaN</td>\n      <td>Web</td>\n      <td>2014-05-16</td>\n      <td>Closed with explanation</td>\n      <td>Yes</td>\n      <td>No</td>\n      <td>856103</td>\n    </tr>\n    <tr>\n      <th>1</th>\n      <td>2014-09-18</td>\n      <td>Bank account or service</td>\n      <td>(CD) Certificate of deposit</td>\n      <td>Making/receiving payments, sending money</td>\n      <td>NaN</td>\n      <td>NaN</td>\n      <td>NaN</td>\n      <td>Santander Bank US</td>\n      <td>PA</td>\n      <td>18042</td>\n      <td>NaN</td>\n      <td>NaN</td>\n      <td>Referral</td>\n      <td>2014-09-24</td>\n      <td>Closed</td>\n      <td>Yes</td>\n      <td>No</td>\n      <td>1034666</td>\n    </tr>\n    <tr>\n      <th>2</th>\n      <td>2014-03-13</td>\n      <td>Credit reporting</td>\n      <td>NaN</td>\n      <td>Incorrect information on credit report</td>\n      <td>Account status</td>\n      <td>NaN</td>\n      <td>NaN</td>\n      <td>Equifax</td>\n      <td>CA</td>\n      <td>92427</td>\n      <td>NaN</td>\n      <td>NaN</td>\n      <td>Referral</td>\n      <td>2014-04-03</td>\n      <td>Closed with non-monetary relief</td>\n      <td>Yes</td>\n      <td>No</td>\n      <td>756363</td>\n    </tr>\n    <tr>\n      <th>3</th>\n      <td>2015-07-17</td>\n      <td>Credit card</td>\n      <td>NaN</td>\n      <td>Billing statement</td>\n      <td>NaN</td>\n      <td>My credit card statement from US Bank, XXXX. X...</td>\n      <td>Company chooses not to provide a public response</td>\n      <td>U.S. Bancorp</td>\n      <td>GA</td>\n      <td>305XX</td>\n      <td>Older American</td>\n      <td>Consent provided</td>\n      <td>Web</td>\n      <td>2015-07-17</td>\n      <td>Closed with monetary relief</td>\n      <td>Yes</td>\n      <td>No</td>\n      <td>1474177</td>\n    </tr>\n    <tr>\n      <th>4</th>\n      <td>2014-11-20</td>\n      <td>Credit card</td>\n      <td>NaN</td>\n      <td>Transaction issue</td>\n      <td>NaN</td>\n      <td>NaN</td>\n      <td>NaN</td>\n      <td>Bank of America</td>\n      <td>MA</td>\n      <td>02127</td>\n      <td>NaN</td>\n      <td>NaN</td>\n      <td>Web</td>\n      <td>2014-11-28</td>\n      <td>Closed with explanation</td>\n      <td>Yes</td>\n      <td>No</td>\n      <td>1132572</td>\n    </tr>\n  </tbody>\n</table>\n</div>"
     },
     "metadata": {},
     "execution_count": 52
    }
   ],
   "source": [
    "cd_train.head()"
   ]
  },
  {
   "cell_type": "code",
   "execution_count": 53,
   "metadata": {},
   "outputs": [],
   "source": [
    "cd_train['Consumer disputed?']=np.where(cd_train['Consumer disputed?']==\"Yes\",0,1)"
   ]
  },
  {
   "cell_type": "code",
   "execution_count": 54,
   "metadata": {},
   "outputs": [
    {
     "output_type": "execute_result",
     "data": {
      "text/plain": "Date received                    0.00\nProduct                          0.00\nSub-product                     28.94\nIssue                            0.00\nSub-issue                       61.16\nConsumer complaint narrative    84.30\nCompany public response         81.11\nCompany                          0.00\nState                            0.80\nZIP code                         0.80\nTags                            85.95\nConsumer consent provided?      71.68\nSubmitted via                    0.00\nDate sent to company             0.00\nCompany response to consumer     0.00\nTimely response?                 0.00\nConsumer disputed?               0.00\nComplaint ID                     0.00\ndtype: float64"
     },
     "metadata": {},
     "execution_count": 54
    }
   ],
   "source": [
    "cd_train.isna().mean().round(4) * 100"
   ]
  },
  {
   "cell_type": "code",
   "execution_count": 55,
   "metadata": {},
   "outputs": [
    {
     "output_type": "execute_result",
     "data": {
      "text/plain": "Mortgage                   156175\nDebt collection             86544\nCredit reporting            81115\nCredit card                 57358\nBank account or service     54403\nConsumer Loan               18599\nStudent loan                14918\nMoney transfers              3349\nPayday loan                  3219\nPrepaid card                 2226\nOther financial service       507\nVirtual currency                8\nName: Product, dtype: int64"
     },
     "metadata": {},
     "execution_count": 55
    }
   ],
   "source": [
    "cd_train['Product'].value_counts()"
   ]
  },
  {
   "cell_type": "code",
   "execution_count": 56,
   "metadata": {},
   "outputs": [],
   "source": [
    "for col in ['Date received','Date sent to company']:\n",
    "    cd_train[col]=pd.to_datetime(cd_train[col],infer_datetime_format=True)\n",
    "    cd_test[col]=pd.to_datetime(cd_test[col],infer_datetime_format=True)"
   ]
  },
  {
   "cell_type": "code",
   "execution_count": 57,
   "metadata": {},
   "outputs": [],
   "source": [
    "cd_train['day_diff']=pd.to_numeric((cd_train['Date sent to company']-cd_train['Date received'])/np.timedelta64(1, 'M'))\n",
    "cd_test['day_diff']=pd.to_numeric((cd_test['Date sent to company']-cd_test['Date received'])/np.timedelta64(1, 'M'))"
   ]
  },
  {
   "cell_type": "code",
   "execution_count": 58,
   "metadata": {},
   "outputs": [],
   "source": [
    "for col in ['Date received','Date sent to company']:\n",
    "    cd_train.drop([col],1,inplace=True)\n",
    "    cd_test.drop([col],1,inplace=True)"
   ]
  },
  {
   "cell_type": "code",
   "execution_count": 59,
   "metadata": {},
   "outputs": [
    {
     "output_type": "stream",
     "name": "stdout",
     "text": "Product : 12\nSub-product : 47\nIssue : 95\nSub-issue : 68\nConsumer complaint narrative : 74019\nCompany public response : 10\nCompany : 3276\nState : 62\nZIP code : 25962\nTags : 3\nConsumer consent provided? : 4\nSubmitted via : 6\nCompany response to consumer : 7\nTimely response? : 2\n"
    }
   ],
   "source": [
    "for col in cd_train.select_dtypes(['object']).columns:\n",
    "    print(col,':',cd_train[col].nunique())"
   ]
  },
  {
   "cell_type": "code",
   "execution_count": 60,
   "metadata": {},
   "outputs": [
    {
     "output_type": "stream",
     "name": "stdout",
     "text": "Product : 12\nSub-product : 47\nIssue : 94\nSub-issue : 67\nConsumer complaint narrative : 18438\nCompany public response : 10\nCompany : 2237\nState : 62\nZIP code : 17784\nTags : 3\nConsumer consent provided? : 4\nSubmitted via : 6\nCompany response to consumer : 7\nTimely response? : 2\n"
    }
   ],
   "source": [
    "for col in cd_test.select_dtypes(['object']).columns:\n",
    "    print(col,':',cd_test[col].nunique())"
   ]
  },
  {
   "cell_type": "code",
   "execution_count": 61,
   "metadata": {},
   "outputs": [
    {
     "output_type": "execute_result",
     "data": {
      "text/plain": "1    376990\n0    101431\nName: Consumer disputed?, dtype: int64"
     },
     "metadata": {},
     "execution_count": 61
    }
   ],
   "source": [
    "cd_train['Consumer disputed?'].value_counts()"
   ]
  },
  {
   "cell_type": "code",
   "execution_count": 62,
   "metadata": {},
   "outputs": [
    {
     "output_type": "execute_result",
     "data": {
      "text/plain": "Product                              0\nSub-product                     138473\nIssue                                0\nSub-issue                       292625\nConsumer complaint narrative    403327\nCompany public response         388029\nCompany                              0\nState                             3839\nZIP code                          3848\nTags                            411215\nConsumer consent provided?      342934\nSubmitted via                        0\nCompany response to consumer         0\nTimely response?                     0\nConsumer disputed?                   0\nComplaint ID                         0\nday_diff                             0\ndtype: int64"
     },
     "metadata": {},
     "execution_count": 62
    }
   ],
   "source": [
    "cd_train.isnull().sum()"
   ]
  },
  {
   "cell_type": "code",
   "execution_count": 63,
   "metadata": {},
   "outputs": [],
   "source": [
    "for col in ['Tags','Company public response']:\n",
    "    varname=col.replace('-','_').replace('?','').replace(\" \",'_')+'_isNan'\n",
    "    cd_train[varname]=np.where(pd.isnull(cd_train[col]),1,0)\n",
    "    cd_train.drop([col],1,inplace=True)\n",
    "    cd_test[varname]=np.where(pd.isnull(cd_test[col]),1,0)\n",
    "    cd_test.drop([col],1,inplace=True)\n",
    "    "
   ]
  },
  {
   "cell_type": "code",
   "execution_count": 64,
   "metadata": {},
   "outputs": [
    {
     "output_type": "execute_result",
     "data": {
      "text/plain": "Product                           object\nSub-product                       object\nIssue                             object\nSub-issue                         object\nConsumer complaint narrative      object\nCompany                           object\nState                             object\nZIP code                          object\nConsumer consent provided?        object\nSubmitted via                     object\nCompany response to consumer      object\nTimely response?                  object\nConsumer disputed?                 int32\nComplaint ID                       int64\nday_diff                         float64\nTags_isNan                         int32\nCompany_public_response_isNan      int32\ndtype: object"
     },
     "metadata": {},
     "execution_count": 64
    }
   ],
   "source": [
    "cd_train.dtypes"
   ]
  },
  {
   "cell_type": "code",
   "execution_count": 65,
   "metadata": {},
   "outputs": [
    {
     "output_type": "stream",
     "name": "stdout",
     "text": "Product : 12\nSub-product : 47\nIssue : 95\nSub-issue : 68\nConsumer complaint narrative : 74019\nCompany : 3276\nState : 62\nZIP code : 25962\nConsumer consent provided? : 4\nSubmitted via : 6\nCompany response to consumer : 7\nTimely response? : 2\n"
    }
   ],
   "source": [
    "for col in cd_train.select_dtypes(['object']).columns:\n",
    "    print(col,':',cd_train[col].nunique())"
   ]
  },
  {
   "cell_type": "code",
   "execution_count": 66,
   "metadata": {},
   "outputs": [],
   "source": [
    "k=cd_train['State'].value_counts()\n",
    "for val in k.axes[0][0:15]:\n",
    "    varname='State_'+val.replace(',','_').replace(' ','_')\n",
    "    cd_train[varname]=np.where(cd_train['State']==val,1,0)\n",
    "    cd_test[varname]=np.where(cd_test['State']==val,1,0)\n",
    "del cd_train['State']\n",
    "del cd_test['State']"
   ]
  },
  {
   "cell_type": "code",
   "execution_count": 67,
   "metadata": {},
   "outputs": [],
   "source": [
    "for col in ['Product','Submitted via','Company response to consumer','Timely response?']:\n",
    "    \n",
    "    temp=pd.get_dummies(cd_train[col],prefix=col,drop_first=True)\n",
    "    cd_train=pd.concat([temp,cd_train],1)\n",
    "    cd_train.drop([col],1,inplace=True)\n",
    "    \n",
    "    temp=pd.get_dummies(cd_test[col],prefix=col,drop_first=True)\n",
    "    cd_test=pd.concat([temp,cd_test],1)\n",
    "    cd_test.drop([col],1,inplace=True)\n"
   ]
  },
  {
   "cell_type": "code",
   "execution_count": 68,
   "metadata": {},
   "outputs": [
    {
     "output_type": "stream",
     "name": "stdout",
     "text": "Sub-product : 47\nIssue : 95\nSub-issue : 68\nConsumer complaint narrative : 74019\nCompany : 3276\nZIP code : 25962\nConsumer consent provided? : 4\n"
    }
   ],
   "source": [
    "for col in cd_train.select_dtypes(['object']).columns:\n",
    "    print(col,':',cd_train[col].nunique())"
   ]
  },
  {
   "cell_type": "code",
   "execution_count": null,
   "metadata": {},
   "outputs": [],
   "source": []
  },
  {
   "cell_type": "code",
   "execution_count": 69,
   "metadata": {},
   "outputs": [
    {
     "output_type": "execute_result",
     "data": {
      "text/plain": "(478421, 50)"
     },
     "metadata": {},
     "execution_count": 69
    }
   ],
   "source": [
    "cd_train.shape"
   ]
  },
  {
   "cell_type": "code",
   "execution_count": 70,
   "metadata": {},
   "outputs": [
    {
     "output_type": "execute_result",
     "data": {
      "text/plain": "(119606, 49)"
     },
     "metadata": {},
     "execution_count": 70
    }
   ],
   "source": [
    "cd_test.shape"
   ]
  },
  {
   "cell_type": "code",
   "execution_count": 71,
   "metadata": {},
   "outputs": [],
   "source": [
    "for col in ['ZIP code','Company']:\n",
    "    cd_train.drop([col],1,inplace=True)\n",
    "    cd_test.drop([col],1,inplace=True)"
   ]
  },
  {
   "cell_type": "code",
   "execution_count": 72,
   "metadata": {},
   "outputs": [
    {
     "output_type": "stream",
     "name": "stdout",
     "text": "Sub-product : 47\nIssue : 95\nSub-issue : 68\nConsumer complaint narrative : 74019\nConsumer consent provided? : 4\n"
    }
   ],
   "source": [
    "for col in cd_train.select_dtypes(['object']).columns:\n",
    "    print(col,':',cd_train[col].nunique())"
   ]
  },
  {
   "cell_type": "code",
   "execution_count": 73,
   "metadata": {},
   "outputs": [
    {
     "output_type": "stream",
     "name": "stdout",
     "text": "Sub-product : 47\nIssue : 94\nSub-issue : 67\nConsumer complaint narrative : 18438\nConsumer consent provided? : 4\n"
    }
   ],
   "source": [
    "for col in cd_test.select_dtypes(['object']).columns:\n",
    "    print(col,':',cd_test[col].nunique())"
   ]
  },
  {
   "cell_type": "code",
   "execution_count": 74,
   "metadata": {},
   "outputs": [
    {
     "output_type": "execute_result",
     "data": {
      "text/plain": "0         NaN\n1         NaN\n2         NaN\n3         NaN\n4         NaN\n         ... \n478416    NaN\n478417    NaN\n478418    NaN\n478419    NaN\n478420    NaN\nName: Super, Length: 478421, dtype: object"
     },
     "metadata": {},
     "execution_count": 74
    }
   ],
   "source": [
    "cd_train['Super']=cd_train['Consumer consent provided?']+cd_train['Sub-product']+cd_train['Issue']+','+cd_train['Sub-issue']+','+cd_train['Consumer complaint narrative']\n",
    "del cd_train['Issue']\n",
    "del cd_train['Sub-issue']\n",
    "del cd_train['Consumer complaint narrative']\n",
    "del cd_train['Consumer consent provided?']\n",
    "cd_train[\"Super\"]=np.where(pd.isnull(cd_train[\"Super\"]),'NaN',cd_train['Super'])\n",
    "cd_train['Super'].astype(str)\n",
    "    "
   ]
  },
  {
   "cell_type": "code",
   "execution_count": 75,
   "metadata": {},
   "outputs": [
    {
     "output_type": "execute_result",
     "data": {
      "text/plain": "0         NaN\n1         NaN\n2         NaN\n3         NaN\n4         NaN\n         ... \n119601    NaN\n119602    NaN\n119603    NaN\n119604    NaN\n119605    NaN\nName: Super, Length: 119606, dtype: object"
     },
     "metadata": {},
     "execution_count": 75
    }
   ],
   "source": [
    "cd_test['Super']=cd_test['Consumer consent provided?']+cd_test['Sub-product']+cd_test['Issue']+','+cd_test['Sub-issue']+','+cd_test['Consumer complaint narrative']\n",
    "del cd_test['Issue']\n",
    "del cd_test['Sub-issue']\n",
    "del cd_test['Consumer consent provided?']\n",
    "del cd_test['Consumer complaint narrative']\n",
    "cd_test[\"Super\"]=np.where(pd.isnull(cd_test[\"Super\"]),'NaN',cd_test['Super'])\n",
    "cd_test['Super'].astype(str)\n",
    "    "
   ]
  },
  {
   "cell_type": "code",
   "execution_count": 76,
   "metadata": {},
   "outputs": [
    {
     "output_type": "execute_result",
     "data": {
      "text/plain": "Timely response?_Yes                                                0\nCompany response to consumer_Closed with explanation                0\nCompany response to consumer_Closed with monetary relief            0\nCompany response to consumer_Closed with non-monetary relief        0\nCompany response to consumer_Closed with relief                     0\nCompany response to consumer_Closed without relief                  0\nCompany response to consumer_Untimely response                      0\nSubmitted via_Fax                                                   0\nSubmitted via_Phone                                                 0\nSubmitted via_Postal mail                                           0\nSubmitted via_Referral                                              0\nSubmitted via_Web                                                   0\nProduct_Consumer Loan                                               0\nProduct_Credit card                                                 0\nProduct_Credit reporting                                            0\nProduct_Debt collection                                             0\nProduct_Money transfers                                             0\nProduct_Mortgage                                                    0\nProduct_Other financial service                                     0\nProduct_Payday loan                                                 0\nProduct_Prepaid card                                                0\nProduct_Student loan                                                0\nProduct_Virtual currency                                            0\nSub-product                                                     34752\nComplaint ID                                                        0\nday_diff                                                            0\nTags_isNan                                                          0\nCompany_public_response_isNan                                       0\nState_CA                                                            0\nState_FL                                                            0\nState_TX                                                            0\nState_NY                                                            0\nState_GA                                                            0\nState_NJ                                                            0\nState_PA                                                            0\nState_IL                                                            0\nState_VA                                                            0\nState_MD                                                            0\nState_OH                                                            0\nState_NC                                                            0\nState_MI                                                            0\nState_AZ                                                            0\nState_WA                                                            0\nSuper                                                               0\ndtype: int64"
     },
     "metadata": {},
     "execution_count": 76
    }
   ],
   "source": [
    "cd_test.isnull().sum()"
   ]
  },
  {
   "cell_type": "code",
   "execution_count": 77,
   "metadata": {},
   "outputs": [
    {
     "output_type": "execute_result",
     "data": {
      "text/plain": "Timely response?_Yes                                                 0\nCompany response to consumer_Closed with explanation                 0\nCompany response to consumer_Closed with monetary relief             0\nCompany response to consumer_Closed with non-monetary relief         0\nCompany response to consumer_Closed with relief                      0\nCompany response to consumer_Closed without relief                   0\nCompany response to consumer_Untimely response                       0\nSubmitted via_Fax                                                    0\nSubmitted via_Phone                                                  0\nSubmitted via_Postal mail                                            0\nSubmitted via_Referral                                               0\nSubmitted via_Web                                                    0\nProduct_Consumer Loan                                                0\nProduct_Credit card                                                  0\nProduct_Credit reporting                                             0\nProduct_Debt collection                                              0\nProduct_Money transfers                                              0\nProduct_Mortgage                                                     0\nProduct_Other financial service                                      0\nProduct_Payday loan                                                  0\nProduct_Prepaid card                                                 0\nProduct_Student loan                                                 0\nProduct_Virtual currency                                             0\nSub-product                                                     138473\nConsumer disputed?                                                   0\nComplaint ID                                                         0\nday_diff                                                             0\nTags_isNan                                                           0\nCompany_public_response_isNan                                        0\nState_CA                                                             0\nState_FL                                                             0\nState_TX                                                             0\nState_NY                                                             0\nState_GA                                                             0\nState_NJ                                                             0\nState_PA                                                             0\nState_IL                                                             0\nState_VA                                                             0\nState_MD                                                             0\nState_OH                                                             0\nState_NC                                                             0\nState_MI                                                             0\nState_AZ                                                             0\nState_WA                                                             0\nSuper                                                                0\ndtype: int64"
     },
     "metadata": {},
     "execution_count": 77
    }
   ],
   "source": [
    "cd_train.isnull().sum()"
   ]
  },
  {
   "cell_type": "code",
   "execution_count": 78,
   "metadata": {},
   "outputs": [
    {
     "output_type": "execute_result",
     "data": {
      "text/plain": "   Timely response?_Yes  Company response to consumer_Closed with explanation  \\\n0                     1                                                  1      \n1                     1                                                  0      \n2                     1                                                  0      \n3                     1                                                  0      \n\n   Company response to consumer_Closed with monetary relief  \\\n0                                                  0          \n1                                                  0          \n2                                                  0          \n3                                                  1          \n\n   Company response to consumer_Closed with non-monetary relief  \\\n0                                                  0              \n1                                                  0              \n2                                                  1              \n3                                                  0              \n\n   Company response to consumer_Closed with relief  \\\n0                                                0   \n1                                                0   \n2                                                0   \n3                                                0   \n\n   Company response to consumer_Closed without relief  \\\n0                                                  0    \n1                                                  0    \n2                                                  0    \n3                                                  0    \n\n   Company response to consumer_Untimely response  Submitted via_Fax  \\\n0                                               0                  0   \n1                                               0                  0   \n2                                               0                  0   \n3                                               0                  0   \n\n   Submitted via_Phone  Submitted via_Postal mail  ...  State_PA  State_IL  \\\n0                    0                          0  ...         0         0   \n1                    0                          0  ...         1         0   \n2                    0                          0  ...         0         0   \n3                    0                          0  ...         0         0   \n\n   State_VA  State_MD  State_OH  State_NC  State_MI  State_AZ  State_WA  Super  \n0         0         0         0         0         1         0         0    NaN  \n1         0         0         0         0         0         0         0    NaN  \n2         0         0         0         0         0         0         0    NaN  \n3         0         0         0         0         0         0         0    NaN  \n\n[4 rows x 45 columns]",
      "text/html": "<div>\n<style scoped>\n    .dataframe tbody tr th:only-of-type {\n        vertical-align: middle;\n    }\n\n    .dataframe tbody tr th {\n        vertical-align: top;\n    }\n\n    .dataframe thead th {\n        text-align: right;\n    }\n</style>\n<table border=\"1\" class=\"dataframe\">\n  <thead>\n    <tr style=\"text-align: right;\">\n      <th></th>\n      <th>Timely response?_Yes</th>\n      <th>Company response to consumer_Closed with explanation</th>\n      <th>Company response to consumer_Closed with monetary relief</th>\n      <th>Company response to consumer_Closed with non-monetary relief</th>\n      <th>Company response to consumer_Closed with relief</th>\n      <th>Company response to consumer_Closed without relief</th>\n      <th>Company response to consumer_Untimely response</th>\n      <th>Submitted via_Fax</th>\n      <th>Submitted via_Phone</th>\n      <th>Submitted via_Postal mail</th>\n      <th>...</th>\n      <th>State_PA</th>\n      <th>State_IL</th>\n      <th>State_VA</th>\n      <th>State_MD</th>\n      <th>State_OH</th>\n      <th>State_NC</th>\n      <th>State_MI</th>\n      <th>State_AZ</th>\n      <th>State_WA</th>\n      <th>Super</th>\n    </tr>\n  </thead>\n  <tbody>\n    <tr>\n      <th>0</th>\n      <td>1</td>\n      <td>1</td>\n      <td>0</td>\n      <td>0</td>\n      <td>0</td>\n      <td>0</td>\n      <td>0</td>\n      <td>0</td>\n      <td>0</td>\n      <td>0</td>\n      <td>...</td>\n      <td>0</td>\n      <td>0</td>\n      <td>0</td>\n      <td>0</td>\n      <td>0</td>\n      <td>0</td>\n      <td>1</td>\n      <td>0</td>\n      <td>0</td>\n      <td>NaN</td>\n    </tr>\n    <tr>\n      <th>1</th>\n      <td>1</td>\n      <td>0</td>\n      <td>0</td>\n      <td>0</td>\n      <td>0</td>\n      <td>0</td>\n      <td>0</td>\n      <td>0</td>\n      <td>0</td>\n      <td>0</td>\n      <td>...</td>\n      <td>1</td>\n      <td>0</td>\n      <td>0</td>\n      <td>0</td>\n      <td>0</td>\n      <td>0</td>\n      <td>0</td>\n      <td>0</td>\n      <td>0</td>\n      <td>NaN</td>\n    </tr>\n    <tr>\n      <th>2</th>\n      <td>1</td>\n      <td>0</td>\n      <td>0</td>\n      <td>1</td>\n      <td>0</td>\n      <td>0</td>\n      <td>0</td>\n      <td>0</td>\n      <td>0</td>\n      <td>0</td>\n      <td>...</td>\n      <td>0</td>\n      <td>0</td>\n      <td>0</td>\n      <td>0</td>\n      <td>0</td>\n      <td>0</td>\n      <td>0</td>\n      <td>0</td>\n      <td>0</td>\n      <td>NaN</td>\n    </tr>\n    <tr>\n      <th>3</th>\n      <td>1</td>\n      <td>0</td>\n      <td>1</td>\n      <td>0</td>\n      <td>0</td>\n      <td>0</td>\n      <td>0</td>\n      <td>0</td>\n      <td>0</td>\n      <td>0</td>\n      <td>...</td>\n      <td>0</td>\n      <td>0</td>\n      <td>0</td>\n      <td>0</td>\n      <td>0</td>\n      <td>0</td>\n      <td>0</td>\n      <td>0</td>\n      <td>0</td>\n      <td>NaN</td>\n    </tr>\n  </tbody>\n</table>\n<p>4 rows × 45 columns</p>\n</div>"
     },
     "metadata": {},
     "execution_count": 78
    }
   ],
   "source": [
    "cd_train.head(4)"
   ]
  },
  {
   "cell_type": "code",
   "execution_count": 79,
   "metadata": {},
   "outputs": [
    {
     "output_type": "execute_result",
     "data": {
      "text/plain": "0         NaN\n1         NaN\n2         NaN\n3         NaN\n4         NaN\n         ... \n478416    NaN\n478417    NaN\n478418    NaN\n478419    NaN\n478420    NaN\nName: Super, Length: 478421, dtype: object"
     },
     "metadata": {},
     "execution_count": 79
    }
   ],
   "source": [
    "cd_train['Super']"
   ]
  },
  {
   "cell_type": "code",
   "execution_count": 80,
   "metadata": {},
   "outputs": [],
   "source": [
    "cd1_train,cd1_test=train_test_split(cd_train,test_size=0.2,random_state=2)"
   ]
  },
  {
   "cell_type": "code",
   "execution_count": 81,
   "metadata": {},
   "outputs": [],
   "source": [
    "from sklearn.naive_bayes import MultinomialNB"
   ]
  },
  {
   "cell_type": "code",
   "execution_count": 82,
   "metadata": {},
   "outputs": [],
   "source": [
    "from sklearn.feature_extraction.text import TfidfVectorizer\n",
    "from nltk.corpus import stopwords\n",
    "from nltk.tokenize import word_tokenize\n",
    "from nltk.stem.wordnet import WordNetLemmatizer\n",
    "lemma=WordNetLemmatizer()\n",
    "stop=set(stopwords.words('english'))"
   ]
  },
  {
   "cell_type": "code",
   "execution_count": 83,
   "metadata": {},
   "outputs": [],
   "source": [
    "def split_into_lemmas(message):\n",
    "    words=word_tokenize(message)\n",
    "    words_sans_stop=[]\n",
    "    for word in words:\n",
    "        if word in stop:continue\n",
    "        words_sans_stop.append(word)\n",
    "    return[lemma.lemmatize(word) for word in words_sans_stop]"
   ]
  },
  {
   "cell_type": "code",
   "execution_count": 84,
   "metadata": {},
   "outputs": [],
   "source": [
    "tfidf=TfidfVectorizer(analyzer=split_into_lemmas,min_df=10,max_df=3000)"
   ]
  },
  {
   "cell_type": "code",
   "execution_count": 85,
   "metadata": {},
   "outputs": [
    {
     "output_type": "execute_result",
     "data": {
      "text/plain": "TfidfVectorizer(analyzer=<function split_into_lemmas at 0x2613BBB0>,\n                binary=False, decode_error='strict',\n                dtype=<class 'numpy.float64'>, encoding='utf-8',\n                input='content', lowercase=True, max_df=3000, max_features=None,\n                min_df=10, ngram_range=(1, 1), norm='l2', preprocessor=None,\n                smooth_idf=True, stop_words=None, strip_accents=None,\n                sublinear_tf=False, token_pattern='(?u)\\\\b\\\\w\\\\w+\\\\b',\n                tokenizer=None, use_idf=True, vocabulary=None)"
     },
     "metadata": {},
     "execution_count": 85
    }
   ],
   "source": [
    "tfidf.fit(cd_train['Super'])"
   ]
  },
  {
   "cell_type": "code",
   "execution_count": 86,
   "metadata": {},
   "outputs": [],
   "source": [
    "train_data=tfidf.transform(cd_train['Super'])"
   ]
  },
  {
   "cell_type": "code",
   "execution_count": 87,
   "metadata": {},
   "outputs": [
    {
     "output_type": "execute_result",
     "data": {
      "text/plain": "<478421x6925 sparse matrix of type '<class 'numpy.float64'>'\n\twith 1006402 stored elements in Compressed Sparse Row format>"
     },
     "metadata": {},
     "execution_count": 87
    }
   ],
   "source": [
    "train_data"
   ]
  },
  {
   "cell_type": "code",
   "execution_count": 88,
   "metadata": {},
   "outputs": [],
   "source": [
    "test_data=tfidf.transform(cd_test['Super'])"
   ]
  },
  {
   "cell_type": "code",
   "execution_count": 89,
   "metadata": {},
   "outputs": [],
   "source": [
    "clf=MultinomialNB()"
   ]
  },
  {
   "cell_type": "code",
   "execution_count": 90,
   "metadata": {},
   "outputs": [
    {
     "output_type": "execute_result",
     "data": {
      "text/plain": "MultinomialNB(alpha=1.0, class_prior=None, fit_prior=True)"
     },
     "metadata": {},
     "execution_count": 90
    }
   ],
   "source": [
    "clf.fit(train_data,cd_train['Consumer disputed?'])"
   ]
  },
  {
   "cell_type": "code",
   "execution_count": 91,
   "metadata": {},
   "outputs": [],
   "source": [
    "Final_data=tfidf.transform(cd_train['Super'])"
   ]
  },
  {
   "cell_type": "code",
   "execution_count": 92,
   "metadata": {},
   "outputs": [],
   "source": [
    "p=clf.predict_proba(Final_data)"
   ]
  },
  {
   "cell_type": "code",
   "execution_count": 93,
   "metadata": {},
   "outputs": [
    {
     "output_type": "execute_result",
     "data": {
      "text/plain": "(478421, 2)"
     },
     "metadata": {},
     "execution_count": 93
    }
   ],
   "source": [
    "p.shape"
   ]
  },
  {
   "cell_type": "code",
   "execution_count": 94,
   "metadata": {},
   "outputs": [
    {
     "output_type": "execute_result",
     "data": {
      "text/plain": "array([0.21201201, 0.21201201, 0.21201201, ..., 0.21201201, 0.21201201,\n       0.21201201])"
     },
     "metadata": {},
     "execution_count": 94
    }
   ],
   "source": [
    "p[:,0]"
   ]
  },
  {
   "cell_type": "code",
   "execution_count": 95,
   "metadata": {},
   "outputs": [
    {
     "output_type": "execute_result",
     "data": {
      "text/plain": "array([0, 1])"
     },
     "metadata": {},
     "execution_count": 95
    }
   ],
   "source": [
    "clf.classes_"
   ]
  },
  {
   "cell_type": "code",
   "execution_count": 96,
   "metadata": {},
   "outputs": [],
   "source": [
    "cd_train['Tfidf']=np.where(p[:,0]>=0.5,0,1)"
   ]
  },
  {
   "cell_type": "code",
   "execution_count": 97,
   "metadata": {},
   "outputs": [],
   "source": [
    "del cd_train['Super']"
   ]
  },
  {
   "cell_type": "code",
   "execution_count": 98,
   "metadata": {},
   "outputs": [],
   "source": [
    "del cd_train['Sub-product']"
   ]
  },
  {
   "cell_type": "code",
   "execution_count": 99,
   "metadata": {},
   "outputs": [],
   "source": [
    "Test_Final_data=tfidf.transform(cd_test['Super'])"
   ]
  },
  {
   "cell_type": "code",
   "execution_count": 100,
   "metadata": {},
   "outputs": [
    {
     "output_type": "execute_result",
     "data": {
      "text/plain": "<119606x6925 sparse matrix of type '<class 'numpy.float64'>'\n\twith 244927 stored elements in Compressed Sparse Row format>"
     },
     "metadata": {},
     "execution_count": 100
    }
   ],
   "source": [
    "Test_Final_data"
   ]
  },
  {
   "cell_type": "code",
   "execution_count": 101,
   "metadata": {},
   "outputs": [],
   "source": [
    "r=clf.predict_proba(Test_Final_data)"
   ]
  },
  {
   "cell_type": "code",
   "execution_count": 102,
   "metadata": {},
   "outputs": [
    {
     "output_type": "execute_result",
     "data": {
      "text/plain": "array([[0.21201201, 0.78798799],\n       [0.21201201, 0.78798799],\n       [0.21201201, 0.78798799],\n       ...,\n       [0.21201201, 0.78798799],\n       [0.21201201, 0.78798799],\n       [0.21201201, 0.78798799]])"
     },
     "metadata": {},
     "execution_count": 102
    }
   ],
   "source": [
    "r"
   ]
  },
  {
   "cell_type": "code",
   "execution_count": 103,
   "metadata": {},
   "outputs": [],
   "source": [
    "cd_test['Tfidf']=np.where(r[:,0]>=0.5,1,0)"
   ]
  },
  {
   "cell_type": "code",
   "execution_count": 104,
   "metadata": {},
   "outputs": [],
   "source": [
    "del cd_test['Super']\n",
    "del cd_test['Sub-product']"
   ]
  },
  {
   "cell_type": "code",
   "execution_count": 105,
   "metadata": {},
   "outputs": [
    {
     "output_type": "execute_result",
     "data": {
      "text/plain": "Timely response?_Yes                                              uint8\nCompany response to consumer_Closed with explanation              uint8\nCompany response to consumer_Closed with monetary relief          uint8\nCompany response to consumer_Closed with non-monetary relief      uint8\nCompany response to consumer_Closed with relief                   uint8\nCompany response to consumer_Closed without relief                uint8\nCompany response to consumer_Untimely response                    uint8\nSubmitted via_Fax                                                 uint8\nSubmitted via_Phone                                               uint8\nSubmitted via_Postal mail                                         uint8\nSubmitted via_Referral                                            uint8\nSubmitted via_Web                                                 uint8\nProduct_Consumer Loan                                             uint8\nProduct_Credit card                                               uint8\nProduct_Credit reporting                                          uint8\nProduct_Debt collection                                           uint8\nProduct_Money transfers                                           uint8\nProduct_Mortgage                                                  uint8\nProduct_Other financial service                                   uint8\nProduct_Payday loan                                               uint8\nProduct_Prepaid card                                              uint8\nProduct_Student loan                                              uint8\nProduct_Virtual currency                                          uint8\nConsumer disputed?                                                int32\nComplaint ID                                                      int64\nday_diff                                                        float64\nTags_isNan                                                        int32\nCompany_public_response_isNan                                     int32\nState_CA                                                          int32\nState_FL                                                          int32\nState_TX                                                          int32\nState_NY                                                          int32\nState_GA                                                          int32\nState_NJ                                                          int32\nState_PA                                                          int32\nState_IL                                                          int32\nState_VA                                                          int32\nState_MD                                                          int32\nState_OH                                                          int32\nState_NC                                                          int32\nState_MI                                                          int32\nState_AZ                                                          int32\nState_WA                                                          int32\nTfidf                                                             int32\ndtype: object"
     },
     "metadata": {},
     "execution_count": 105
    }
   ],
   "source": [
    "cd_train.dtypes"
   ]
  },
  {
   "cell_type": "code",
   "execution_count": null,
   "metadata": {},
   "outputs": [],
   "source": []
  },
  {
   "cell_type": "code",
   "execution_count": 106,
   "metadata": {},
   "outputs": [],
   "source": [
    "cd1_train,cd1_test=train_test_split(cd_train,test_size=0.2,random_state=2)"
   ]
  },
  {
   "cell_type": "code",
   "execution_count": 107,
   "metadata": {},
   "outputs": [],
   "source": [
    "x=cd1_train.drop(['Consumer disputed?','Complaint ID'],1)\n",
    "y=cd1_train['Consumer disputed?']\n",
    "k=cd1_test.drop(['Consumer disputed?','Complaint ID'],1)\n",
    "m=cd1_test['Consumer disputed?']\n"
   ]
  },
  {
   "cell_type": "code",
   "execution_count": 108,
   "metadata": {},
   "outputs": [
    {
     "output_type": "execute_result",
     "data": {
      "text/plain": "(382736, 42)"
     },
     "metadata": {},
     "execution_count": 108
    }
   ],
   "source": [
    "x.shape"
   ]
  },
  {
   "cell_type": "code",
   "execution_count": 109,
   "metadata": {},
   "outputs": [
    {
     "output_type": "execute_result",
     "data": {
      "text/plain": "1    75566\n0    20119\nName: Consumer disputed?, dtype: int64"
     },
     "metadata": {},
     "execution_count": 109
    }
   ],
   "source": [
    "m.value_counts()"
   ]
  },
  {
   "cell_type": "code",
   "execution_count": 82,
   "metadata": {},
   "outputs": [
    {
     "data": {
      "text/plain": [
       "(382736,)"
      ]
     },
     "execution_count": 82,
     "metadata": {},
     "output_type": "execute_result"
    }
   ],
   "source": [
    "y.shape"
   ]
  },
  {
   "cell_type": "code",
   "execution_count": 83,
   "metadata": {},
   "outputs": [
    {
     "data": {
      "text/plain": [
       "(95685,)"
      ]
     },
     "execution_count": 83,
     "metadata": {},
     "output_type": "execute_result"
    }
   ],
   "source": [
    "m.shape"
   ]
  },
  {
   "cell_type": "code",
   "execution_count": 110,
   "metadata": {},
   "outputs": [],
   "source": [
    "from sklearn.linear_model import LogisticRegression"
   ]
  },
  {
   "cell_type": "code",
   "execution_count": 111,
   "metadata": {},
   "outputs": [],
   "source": [
    "clf=LogisticRegression()"
   ]
  },
  {
   "cell_type": "code",
   "execution_count": 112,
   "metadata": {},
   "outputs": [
    {
     "output_type": "execute_result",
     "data": {
      "text/plain": "LogisticRegression(C=1.0, class_weight=None, dual=False, fit_intercept=True,\n                   intercept_scaling=1, l1_ratio=None, max_iter=100,\n                   multi_class='auto', n_jobs=None, penalty='l2',\n                   random_state=None, solver='lbfgs', tol=0.0001, verbose=0,\n                   warm_start=False)"
     },
     "metadata": {},
     "execution_count": 112
    }
   ],
   "source": [
    "clf.fit(x,y)"
   ]
  },
  {
   "cell_type": "code",
   "execution_count": 113,
   "metadata": {},
   "outputs": [],
   "source": [
    "prediction=clf.predict(k)"
   ]
  },
  {
   "cell_type": "code",
   "execution_count": 114,
   "metadata": {},
   "outputs": [],
   "source": [
    "from sklearn.metrics import roc_auc_score"
   ]
  },
  {
   "cell_type": "code",
   "execution_count": 115,
   "metadata": {},
   "outputs": [
    {
     "output_type": "execute_result",
     "data": {
      "text/plain": "array([1, 1, 1, ..., 1, 1, 1])"
     },
     "metadata": {},
     "execution_count": 115
    }
   ],
   "source": [
    "prediction"
   ]
  },
  {
   "cell_type": "code",
   "execution_count": 116,
   "metadata": {},
   "outputs": [
    {
     "output_type": "execute_result",
     "data": {
      "text/plain": "154142    1\n206525    0\n26341     1\n398527    1\n134537    1\n         ..\n437699    1\n325670    1\n293448    0\n317292    1\n73745     0\nName: Consumer disputed?, Length: 95685, dtype: int32"
     },
     "metadata": {},
     "execution_count": 116
    }
   ],
   "source": [
    "m"
   ]
  },
  {
   "cell_type": "code",
   "execution_count": 117,
   "metadata": {},
   "outputs": [
    {
     "output_type": "execute_result",
     "data": {
      "text/plain": "0.7183267931337731"
     },
     "metadata": {},
     "execution_count": 117
    }
   ],
   "source": [
    "roc_auc_score(prediction,m)"
   ]
  },
  {
   "cell_type": "code",
   "execution_count": 118,
   "metadata": {},
   "outputs": [],
   "source": [
    "prediction=np.where(clf.predict(cd_test.drop(['Complaint ID'],1))==1,\"Yes\",\"No\")"
   ]
  },
  {
   "cell_type": "code",
   "execution_count": 119,
   "metadata": {},
   "outputs": [
    {
     "output_type": "execute_result",
     "data": {
      "text/plain": "array(['No', 'No', 'No', ..., 'No', 'No', 'No'], dtype='<U3')"
     },
     "metadata": {},
     "execution_count": 119
    }
   ],
   "source": [
    "prediction"
   ]
  },
  {
   "cell_type": "code",
   "execution_count": 120,
   "metadata": {},
   "outputs": [],
   "source": [
    "submission=pd.DataFrame(list(zip(cd_test['Complaint ID'],list(prediction))),\n",
    "                       columns=['Complaint ID','Consumer disputed?'])"
   ]
  },
  {
   "cell_type": "code",
   "execution_count": 121,
   "metadata": {},
   "outputs": [
    {
     "output_type": "execute_result",
     "data": {
      "text/plain": "1    75566\n0    20119\nName: Consumer disputed?, dtype: int64"
     },
     "metadata": {},
     "execution_count": 121
    }
   ],
   "source": [
    "m.value_counts()"
   ]
  },
  {
   "cell_type": "code",
   "execution_count": 122,
   "metadata": {},
   "outputs": [
    {
     "output_type": "execute_result",
     "data": {
      "text/plain": "No     95737\nYes    23869\nName: Consumer disputed?, dtype: int64"
     },
     "metadata": {},
     "execution_count": 122
    }
   ],
   "source": [
    "submission['Consumer disputed?'].value_counts()"
   ]
  },
  {
   "cell_type": "code",
   "execution_count": 123,
   "metadata": {},
   "outputs": [],
   "source": [
    "submission.to_csv('submission_final.csv',index=False)"
   ]
  },
  {
   "cell_type": "code",
   "execution_count": 124,
   "metadata": {},
   "outputs": [
    {
     "output_type": "execute_result",
     "data": {
      "text/plain": "1    376990\n0    101431\nName: Consumer disputed?, dtype: int64"
     },
     "metadata": {},
     "execution_count": 124
    }
   ],
   "source": [
    "cd_train['Consumer disputed?'].value_counts()"
   ]
  },
  {
   "cell_type": "code",
   "execution_count": null,
   "metadata": {},
   "outputs": [],
   "source": []
  }
 ],
 "metadata": {
  "kernelspec": {
   "display_name": "Python 3.8.2 32-bit",
   "language": "python",
   "name": "python38232bit52be16dd6a7a497a8cb17c3c3da4fbff"
  },
  "language_info": {
   "codemirror_mode": {
    "name": "ipython",
    "version": 3
   },
   "file_extension": ".py",
   "mimetype": "text/x-python",
   "name": "python",
   "nbconvert_exporter": "python",
   "pygments_lexer": "ipython3",
   "version": "3.8.2-final"
  }
 },
 "nbformat": 4,
 "nbformat_minor": 2
}